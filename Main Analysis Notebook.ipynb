{
 "cells": [
  {
   "metadata": {},
   "cell_type": "markdown",
   "source": [
    "Icahn School of Medicine at Mount Sinai EHHOP ED Analysis Project\n",
    "\n",
    "Last Update: 6/30/2024\n",
    "\n",
    "Authors: Gavin Kress and Haley Yettman\n",
    "\n",
    "Inquiries:\n",
    "    gavin.kress@icahn.mssm.edu\n",
    "    \n",
    "    {insert emails for support}"
   ],
   "id": "d6939741c0c620c8"
  },
  {
   "metadata": {
    "ExecuteTime": {
     "end_time": "2024-06-30T09:53:09.875515Z",
     "start_time": "2024-06-30T09:52:40.628137Z"
    }
   },
   "cell_type": "code",
   "source": [
    "#Install needed packages\n",
    "!pip install pandas\n",
    "!pip install matplotlib"
   ],
   "id": "b4418c9819409c96",
   "outputs": [
    {
     "name": "stdout",
     "output_type": "stream",
     "text": [
      "Collecting pandas\n",
      "  Obtaining dependency information for pandas from https://files.pythonhosted.org/packages/22/a5/a0b255295406ed54269814bc93723cfd1a0da63fb9aaf99e1364f07923e5/pandas-2.2.2-cp312-cp312-win_amd64.whl.metadata\n",
      "  Downloading pandas-2.2.2-cp312-cp312-win_amd64.whl.metadata (19 kB)\n",
      "Requirement already satisfied: numpy>=1.26.0 in c:\\users\\gavin\\onedrive\\python\\ehhop ed project\\.venv\\lib\\site-packages (from pandas) (2.0.0)\n",
      "Requirement already satisfied: python-dateutil>=2.8.2 in c:\\users\\gavin\\onedrive\\python\\ehhop ed project\\.venv\\lib\\site-packages (from pandas) (2.9.0.post0)\n",
      "Collecting pytz>=2020.1 (from pandas)\n",
      "  Obtaining dependency information for pytz>=2020.1 from https://files.pythonhosted.org/packages/9c/3d/a121f284241f08268b21359bd425f7d4825cffc5ac5cd0e1b3d82ffd2b10/pytz-2024.1-py2.py3-none-any.whl.metadata\n",
      "  Downloading pytz-2024.1-py2.py3-none-any.whl.metadata (22 kB)\n",
      "Collecting tzdata>=2022.7 (from pandas)\n",
      "  Obtaining dependency information for tzdata>=2022.7 from https://files.pythonhosted.org/packages/65/58/f9c9e6be752e9fcb8b6a0ee9fb87e6e7a1f6bcab2cdc73f02bb7ba91ada0/tzdata-2024.1-py2.py3-none-any.whl.metadata\n",
      "  Downloading tzdata-2024.1-py2.py3-none-any.whl.metadata (1.4 kB)\n",
      "Requirement already satisfied: six>=1.5 in c:\\users\\gavin\\onedrive\\python\\ehhop ed project\\.venv\\lib\\site-packages (from python-dateutil>=2.8.2->pandas) (1.16.0)\n",
      "Downloading pandas-2.2.2-cp312-cp312-win_amd64.whl (11.5 MB)\n",
      "   ---------------------------------------- 0.0/11.5 MB ? eta -:--:--\n",
      "    --------------------------------------- 0.2/11.5 MB 5.8 MB/s eta 0:00:02\n",
      "   -- ------------------------------------- 0.7/11.5 MB 10.7 MB/s eta 0:00:02\n",
      "   --- ------------------------------------ 0.9/11.5 MB 8.5 MB/s eta 0:00:02\n",
      "   ------ --------------------------------- 1.8/11.5 MB 12.6 MB/s eta 0:00:01\n",
      "   ------- -------------------------------- 2.3/11.5 MB 14.3 MB/s eta 0:00:01\n",
      "   --------- ------------------------------ 2.7/11.5 MB 12.3 MB/s eta 0:00:01\n",
      "   ------------ --------------------------- 3.7/11.5 MB 14.8 MB/s eta 0:00:01\n",
      "   -------------- ------------------------- 4.2/11.5 MB 15.8 MB/s eta 0:00:01\n",
      "   --------------- ------------------------ 4.6/11.5 MB 14.7 MB/s eta 0:00:01\n",
      "   -------------------- ------------------- 5.9/11.5 MB 16.3 MB/s eta 0:00:01\n",
      "   --------------------- ------------------ 6.3/11.5 MB 17.4 MB/s eta 0:00:01\n",
      "   ------------------------ --------------- 7.1/11.5 MB 16.9 MB/s eta 0:00:01\n",
      "   ------------------------------ --------- 8.7/11.5 MB 18.4 MB/s eta 0:00:01\n",
      "   ------------------------------- -------- 9.0/11.5 MB 19.2 MB/s eta 0:00:01\n",
      "   ----------------------------------- ---- 10.2/11.5 MB 19.2 MB/s eta 0:00:01\n",
      "   ---------------------------------------  11.4/11.5 MB 23.4 MB/s eta 0:00:01\n",
      "   ---------------------------------------  11.5/11.5 MB 21.8 MB/s eta 0:00:01\n",
      "   ---------------------------------------  11.5/11.5 MB 21.8 MB/s eta 0:00:01\n",
      "   ---------------------------------------- 11.5/11.5 MB 18.7 MB/s eta 0:00:00\n",
      "Downloading pytz-2024.1-py2.py3-none-any.whl (505 kB)\n",
      "   ---------------------------------------- 0.0/505.5 kB ? eta -:--:--\n",
      "   --------------------------------------- 505.5/505.5 kB 16.0 MB/s eta 0:00:00\n",
      "Downloading tzdata-2024.1-py2.py3-none-any.whl (345 kB)\n",
      "   ---------------------------------------- 0.0/345.4 kB ? eta -:--:--\n",
      "   --------------------------------------- 345.4/345.4 kB 20.9 MB/s eta 0:00:00\n",
      "Installing collected packages: pytz, tzdata, pandas\n",
      "Successfully installed pandas-2.2.2 pytz-2024.1 tzdata-2024.1\n"
     ]
    },
    {
     "name": "stderr",
     "output_type": "stream",
     "text": [
      "\n",
      "[notice] A new release of pip is available: 23.2.1 -> 24.1.1\n",
      "[notice] To update, run: python.exe -m pip install --upgrade pip\n"
     ]
    },
    {
     "name": "stdout",
     "output_type": "stream",
     "text": [
      "Collecting matplotlib\n",
      "  Obtaining dependency information for matplotlib from https://files.pythonhosted.org/packages/17/91/febbb6c1063ae05a62fdbe038c2917b348b1b35f0482cee4738e6870a44a/matplotlib-3.9.0-cp312-cp312-win_amd64.whl.metadata\n",
      "  Downloading matplotlib-3.9.0-cp312-cp312-win_amd64.whl.metadata (11 kB)\n",
      "Collecting contourpy>=1.0.1 (from matplotlib)\n",
      "  Obtaining dependency information for contourpy>=1.0.1 from https://files.pythonhosted.org/packages/78/38/a046bb0ebce6f530175d434e7364149e338ffe1069ee286ed8ba7f6481ee/contourpy-1.2.1-cp312-cp312-win_amd64.whl.metadata\n",
      "  Downloading contourpy-1.2.1-cp312-cp312-win_amd64.whl.metadata (5.8 kB)\n",
      "Collecting cycler>=0.10 (from matplotlib)\n",
      "  Obtaining dependency information for cycler>=0.10 from https://files.pythonhosted.org/packages/e7/05/c19819d5e3d95294a6f5947fb9b9629efb316b96de511b418c53d245aae6/cycler-0.12.1-py3-none-any.whl.metadata\n",
      "  Downloading cycler-0.12.1-py3-none-any.whl.metadata (3.8 kB)\n",
      "Collecting fonttools>=4.22.0 (from matplotlib)\n",
      "  Obtaining dependency information for fonttools>=4.22.0 from https://files.pythonhosted.org/packages/79/3e/3d87230c46a103ae225d47ae59ac6cdbd4fa341dddaffdfaf4e89986dd88/fonttools-4.53.0-cp312-cp312-win_amd64.whl.metadata\n",
      "  Downloading fonttools-4.53.0-cp312-cp312-win_amd64.whl.metadata (165 kB)\n",
      "     ---------------------------------------- 0.0/165.5 kB ? eta -:--:--\n",
      "     -- ------------------------------------- 10.2/165.5 kB ? eta -:--:--\n",
      "     ---- -------------------------------- 20.5/165.5 kB 640.0 kB/s eta 0:00:01\n",
      "     ------------- ----------------------- 61.4/165.5 kB 656.4 kB/s eta 0:00:01\n",
      "     -------------------------------------- 165.5/165.5 kB 1.4 MB/s eta 0:00:00\n",
      "Collecting kiwisolver>=1.3.1 (from matplotlib)\n",
      "  Obtaining dependency information for kiwisolver>=1.3.1 from https://files.pythonhosted.org/packages/63/50/2746566bdf4a6a842d117367d05c90cfb87ac04e9e2845aa1fa21f071362/kiwisolver-1.4.5-cp312-cp312-win_amd64.whl.metadata\n",
      "  Downloading kiwisolver-1.4.5-cp312-cp312-win_amd64.whl.metadata (6.5 kB)\n",
      "Requirement already satisfied: numpy>=1.23 in c:\\users\\gavin\\onedrive\\python\\ehhop ed project\\.venv\\lib\\site-packages (from matplotlib) (2.0.0)\n",
      "Requirement already satisfied: packaging>=20.0 in c:\\users\\gavin\\onedrive\\python\\ehhop ed project\\.venv\\lib\\site-packages (from matplotlib) (24.1)\n",
      "Collecting pillow>=8 (from matplotlib)\n",
      "  Obtaining dependency information for pillow>=8 from https://files.pythonhosted.org/packages/d3/23/3927d888481ff7c44fdbca3bc2a2e97588c933db46723bf115201377c436/pillow-10.3.0-cp312-cp312-win_amd64.whl.metadata\n",
      "  Downloading pillow-10.3.0-cp312-cp312-win_amd64.whl.metadata (9.4 kB)\n",
      "Collecting pyparsing>=2.3.1 (from matplotlib)\n",
      "  Obtaining dependency information for pyparsing>=2.3.1 from https://files.pythonhosted.org/packages/9d/ea/6d76df31432a0e6fdf81681a895f009a4bb47b3c39036db3e1b528191d52/pyparsing-3.1.2-py3-none-any.whl.metadata\n",
      "  Downloading pyparsing-3.1.2-py3-none-any.whl.metadata (5.1 kB)\n",
      "Requirement already satisfied: python-dateutil>=2.7 in c:\\users\\gavin\\onedrive\\python\\ehhop ed project\\.venv\\lib\\site-packages (from matplotlib) (2.9.0.post0)\n",
      "Requirement already satisfied: six>=1.5 in c:\\users\\gavin\\onedrive\\python\\ehhop ed project\\.venv\\lib\\site-packages (from python-dateutil>=2.7->matplotlib) (1.16.0)\n",
      "Downloading matplotlib-3.9.0-cp312-cp312-win_amd64.whl (8.0 MB)\n",
      "   ---------------------------------------- 0.0/8.0 MB ? eta -:--:--\n",
      "   ---- ----------------------------------- 0.9/8.0 MB 30.1 MB/s eta 0:00:01\n",
      "   --------- ------------------------------ 1.9/8.0 MB 40.1 MB/s eta 0:00:01\n",
      "   ---------- ----------------------------- 2.1/8.0 MB 19.5 MB/s eta 0:00:01\n",
      "   ------------------- -------------------- 3.9/8.0 MB 27.5 MB/s eta 0:00:01\n",
      "   ------------------------- -------------- 5.2/8.0 MB 33.0 MB/s eta 0:00:01\n",
      "   ---------------------------- ----------- 5.6/8.0 MB 27.6 MB/s eta 0:00:01\n",
      "   ----------------------------------- ---- 7.1/8.0 MB 28.3 MB/s eta 0:00:01\n",
      "   ----------------------------------- ---- 7.1/8.0 MB 28.3 MB/s eta 0:00:01\n",
      "   ------------------------------------ --- 7.3/8.0 MB 23.5 MB/s eta 0:00:01\n",
      "   ---------------------------------------  8.0/8.0 MB 24.3 MB/s eta 0:00:01\n",
      "   ---------------------------------------- 8.0/8.0 MB 21.2 MB/s eta 0:00:00\n",
      "Downloading contourpy-1.2.1-cp312-cp312-win_amd64.whl (189 kB)\n",
      "   ---------------------------------------- 0.0/189.9 kB ? eta -:--:--\n",
      "   ---------------------------------------- 189.9/189.9 kB 5.8 MB/s eta 0:00:00\n",
      "Downloading cycler-0.12.1-py3-none-any.whl (8.3 kB)\n",
      "Downloading fonttools-4.53.0-cp312-cp312-win_amd64.whl (2.2 MB)\n",
      "   ---------------------------------------- 0.0/2.2 MB ? eta -:--:--\n",
      "   ---------------------- ----------------- 1.3/2.2 MB 39.0 MB/s eta 0:00:01\n",
      "   ------------------------------------ --- 2.0/2.2 MB 42.5 MB/s eta 0:00:01\n",
      "   ---------------------------------------  2.2/2.2 MB 27.6 MB/s eta 0:00:01\n",
      "   ---------------------------------------- 2.2/2.2 MB 23.2 MB/s eta 0:00:00\n",
      "Downloading kiwisolver-1.4.5-cp312-cp312-win_amd64.whl (56 kB)\n",
      "   ---------------------------------------- 0.0/56.0 kB ? eta -:--:--\n",
      "   ---------------------------------------- 56.0/56.0 kB 3.1 MB/s eta 0:00:00\n",
      "Downloading pillow-10.3.0-cp312-cp312-win_amd64.whl (2.5 MB)\n",
      "   ---------------------------------------- 0.0/2.5 MB ? eta -:--:--\n",
      "   ---- ----------------------------------- 0.3/2.5 MB ? eta -:--:--\n",
      "   -------------------- ------------------- 1.3/2.5 MB 20.5 MB/s eta 0:00:01\n",
      "   ---------------------------------------  2.5/2.5 MB 26.8 MB/s eta 0:00:01\n",
      "   ---------------------------------------- 2.5/2.5 MB 20.2 MB/s eta 0:00:00\n",
      "Downloading pyparsing-3.1.2-py3-none-any.whl (103 kB)\n",
      "   ---------------------------------------- 0.0/103.2 kB ? eta -:--:--\n",
      "   ---------------------------------------- 103.2/103.2 kB 6.2 MB/s eta 0:00:00\n",
      "Installing collected packages: pyparsing, pillow, kiwisolver, fonttools, cycler, contourpy, matplotlib\n",
      "Successfully installed contourpy-1.2.1 cycler-0.12.1 fonttools-4.53.0 kiwisolver-1.4.5 matplotlib-3.9.0 pillow-10.3.0 pyparsing-3.1.2\n"
     ]
    },
    {
     "name": "stderr",
     "output_type": "stream",
     "text": [
      "\n",
      "[notice] A new release of pip is available: 23.2.1 -> 24.1.1\n",
      "[notice] To update, run: python.exe -m pip install --upgrade pip\n"
     ]
    }
   ],
   "execution_count": 4
  },
  {
   "metadata": {
    "ExecuteTime": {
     "end_time": "2024-06-30T09:53:42.904455Z",
     "start_time": "2024-06-30T09:53:42.425285Z"
    }
   },
   "cell_type": "code",
   "source": [
    "#Import packages into script\n",
    "\n",
    "import pandas as pd\n",
    "import numpy as np"
   ],
   "id": "cea393cf739a8776",
   "outputs": [],
   "execution_count": 5
  }
 ],
 "metadata": {
  "kernelspec": {
   "display_name": "Python 3",
   "language": "python",
   "name": "python3"
  },
  "language_info": {
   "codemirror_mode": {
    "name": "ipython",
    "version": 2
   },
   "file_extension": ".py",
   "mimetype": "text/x-python",
   "name": "python",
   "nbconvert_exporter": "python",
   "pygments_lexer": "ipython2",
   "version": "2.7.6"
  }
 },
 "nbformat": 4,
 "nbformat_minor": 5
}
