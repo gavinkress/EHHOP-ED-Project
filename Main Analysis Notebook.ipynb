{
 "cells": [
  {
   "metadata": {},
   "cell_type": "markdown",
   "source": [
    "Icahn School of Medicine at Mount Sinai EHHOP ED Analysis Project\n",
    "\n",
    "Last Update: 6/30/2024\n",
    "\n",
    "Authors: Gavin Kress and Haley Yettman\n",
    "\n",
    "Inquiries:\n",
    "    gavin.kress@icahn.mssm.edu\n",
    "    \n",
    "    {insert emails for support}"
   ],
   "id": "d6939741c0c620c8"
  },
  {
   "metadata": {},
   "cell_type": "code",
   "outputs": [],
   "execution_count": null,
   "source": "",
   "id": "cea393cf739a8776"
  }
 ],
 "metadata": {
  "kernelspec": {
   "display_name": "Python 3",
   "language": "python",
   "name": "python3"
  },
  "language_info": {
   "codemirror_mode": {
    "name": "ipython",
    "version": 2
   },
   "file_extension": ".py",
   "mimetype": "text/x-python",
   "name": "python",
   "nbconvert_exporter": "python",
   "pygments_lexer": "ipython2",
   "version": "2.7.6"
  }
 },
 "nbformat": 4,
 "nbformat_minor": 5
}
